{
 "cells": [
  {
   "cell_type": "markdown",
   "metadata": {},
   "source": [
    "## LLM Testing\n",
    "###  Using Azure AI"
   ]
  },
  {
   "cell_type": "code",
   "execution_count": null,
   "metadata": {},
   "outputs": [
    {
     "name": "stdout",
     "output_type": "stream",
     "text": [
      "{\n",
      "  \"id\": \"chatcmpl-B4aXOTgRkDp3Ccg15dvI0S1GEk79o\",\n",
      "  \"choices\": [\n",
      "    {\n",
      "      \"finish_reason\": \"stop\",\n",
      "      \"index\": 0,\n",
      "      \"logprobs\": null,\n",
      "      \"message\": {\n",
      "        \"content\": \"The sky typically appears blue during the day due to the scattering of sunlight by the Earth's atmosphere. This phenomenon is known as Rayleigh scattering. However, the sky can also take on different colors at sunrise and sunset, such as orange, pink, and red, depending on atmospheric conditions and the presence of particles in the air.\",\n",
      "        \"refusal\": null,\n",
      "        \"role\": \"assistant\"\n",
      "      },\n",
      "      \"content_filter_results\": {\n",
      "        \"hate\": {\n",
      "          \"filtered\": false,\n",
      "          \"severity\": \"safe\"\n",
      "        },\n",
      "        \"protected_material_code\": {\n",
      "          \"filtered\": false,\n",
      "          \"detected\": false\n",
      "        },\n",
      "        \"protected_material_text\": {\n",
      "          \"filtered\": false,\n",
      "          \"detected\": false\n",
      "        },\n",
      "        \"self_harm\": {\n",
      "          \"filtered\": false,\n",
      "          \"severity\": \"safe\"\n",
      "        },\n",
      "        \"sexual\": {\n",
      "          \"filtered\": false,\n",
      "          \"severity\": \"safe\"\n",
      "        },\n",
      "        \"violence\": {\n",
      "          \"filtered\": false,\n",
      "          \"severity\": \"safe\"\n",
      "        }\n",
      "      }\n",
      "    }\n",
      "  ],\n",
      "  \"created\": 1740433462,\n",
      "  \"model\": \"gpt-4o-mini-2024-07-18\",\n",
      "  \"object\": \"chat.completion\",\n",
      "  \"system_fingerprint\": \"fp_b705f0c291\",\n",
      "  \"usage\": {\n",
      "    \"completion_tokens\": 65,\n",
      "    \"prompt_tokens\": 24,\n",
      "    \"total_tokens\": 89,\n",
      "    \"completion_tokens_details\": {\n",
      "      \"accepted_prediction_tokens\": 0,\n",
      "      \"audio_tokens\": 0,\n",
      "      \"reasoning_tokens\": 0,\n",
      "      \"rejected_prediction_tokens\": 0\n",
      "    },\n",
      "    \"prompt_tokens_details\": {\n",
      "      \"audio_tokens\": 0,\n",
      "      \"cached_tokens\": 0\n",
      "    }\n",
      "  },\n",
      "  \"prompt_filter_results\": [\n",
      "    {\n",
      "      \"prompt_index\": 0,\n",
      "      \"content_filter_results\": {}\n",
      "    }\n",
      "  ]\n",
      "}\n"
     ]
    }
   ],
   "source": [
    "import os  \n",
    "import base64\n",
    "from openai import AzureOpenAI  \n",
    "\n",
    "endpoint = os.getenv(\"ENDPOINT_URL\", \"https://clinicalclarity.openai.azure.com/\")  \n",
    "deployment = os.getenv(\"DEPLOYMENT_NAME\", \"gpt-4o-mini\")  \n",
    "subscription_key = os.getenv(\"AZURE_OPENAI_API_KEY\", \"BBpNTBhZ8gjRfXLdDsnsJWH0QYRA6NeeNbsLpxVcEfiyxXQkGoJDJQQJ99BBACYeBjFXJ3w3AAABACOGupj7\")  \n",
    "\n",
    "# Initialize Azure OpenAI Service client with key-based authentication    \n",
    "client = AzureOpenAI(  \n",
    "    azure_endpoint=endpoint,  \n",
    "    api_key=subscription_key,  \n",
    "    api_version=\"2024-05-01-preview\",\n",
    ")\n",
    "    \n",
    "    \n",
    "# IMAGE_PATH = \"YOUR_IMAGE_PATH\"\n",
    "# encoded_image = base64.b64encode(open(IMAGE_PATH, 'rb').read()).decode('ascii')\n",
    "\n",
    "#Prepare the chat prompt \n",
    "chat_prompt = [\n",
    "    {\n",
    "        \"role\": \"system\",\n",
    "        \"content\": [\n",
    "            {\n",
    "                \"type\": \"text\",\n",
    "                \"text\": \"You are an AI assistant that helps people find information. What colour is the sky?\"\n",
    "            }\n",
    "        ]\n",
    "    }\n",
    "] \n",
    "\n",
    "# Include speech result if speech is enabled  \n",
    "messages = chat_prompt  \n",
    "    \n",
    "# Generate the completion  \n",
    "completion = client.chat.completions.create(  \n",
    "    model=deployment,\n",
    "    messages=messages,\n",
    "    max_tokens=800,  \n",
    "    temperature=0.7,  \n",
    "    top_p=0.95,  \n",
    "    frequency_penalty=0,  \n",
    "    presence_penalty=0,\n",
    "    stop=None,  \n",
    "    stream=False\n",
    ")\n",
    "\n",
    "print(completion.to_json())"
   ]
  },
  {
   "cell_type": "code",
   "execution_count": 13,
   "metadata": {},
   "outputs": [
    {
     "name": "stdout",
     "output_type": "stream",
     "text": [
      "{'id': 'chatcmpl-B4aXOTgRkDp3Ccg15dvI0S1GEk79o', 'choices': [{'finish_reason': 'stop', 'index': 0, 'logprobs': None, 'message': {'content': \"The sky typically appears blue during the day due to the scattering of sunlight by the Earth's atmosphere. This phenomenon is known as Rayleigh scattering. However, the sky can also take on different colors at sunrise and sunset, such as orange, pink, and red, depending on atmospheric conditions and the presence of particles in the air.\", 'refusal': None, 'role': 'assistant'}, 'content_filter_results': {'hate': {'filtered': False, 'severity': 'safe'}, 'protected_material_code': {'filtered': False, 'detected': False}, 'protected_material_text': {'filtered': False, 'detected': False}, 'self_harm': {'filtered': False, 'severity': 'safe'}, 'sexual': {'filtered': False, 'severity': 'safe'}, 'violence': {'filtered': False, 'severity': 'safe'}}}], 'created': 1740433462, 'model': 'gpt-4o-mini-2024-07-18', 'object': 'chat.completion', 'system_fingerprint': 'fp_b705f0c291', 'usage': {'completion_tokens': 65, 'prompt_tokens': 24, 'total_tokens': 89, 'completion_tokens_details': {'accepted_prediction_tokens': 0, 'audio_tokens': 0, 'reasoning_tokens': 0, 'rejected_prediction_tokens': 0}, 'prompt_tokens_details': {'audio_tokens': 0, 'cached_tokens': 0}}, 'prompt_filter_results': [{'prompt_index': 0, 'content_filter_results': {}}]}\n"
     ]
    }
   ],
   "source": [
    "import json\n",
    "\n",
    "json_output = completion.to_json()\n",
    "output = json.loads(json_output)\n",
    "print(output)"
   ]
  },
  {
   "cell_type": "code",
   "execution_count": 11,
   "metadata": {},
   "outputs": [
    {
     "data": {
      "text/plain": [
       "{'content': \"The sky appears blue during the day due to the scattering of sunlight by the Earth's atmosphere. This phenomenon, known as Rayleigh scattering, causes shorter wavelengths of light (blue) to scatter more than longer wavelengths (like red). However, the sky can also appear in various colors at different times, such as orange or pink during sunrise and sunset, or gray when it is overcast.\",\n",
       " 'refusal': None,\n",
       " 'role': 'assistant'}"
      ]
     },
     "execution_count": 11,
     "metadata": {},
     "output_type": "execute_result"
    }
   ],
   "source": [
    "output['choices'][0]['message']"
   ]
  },
  {
   "cell_type": "markdown",
   "metadata": {},
   "source": [
    "### Whisper Model Test with Azure AI"
   ]
  },
  {
   "cell_type": "code",
   "execution_count": 8,
   "metadata": {},
   "outputs": [
    {
     "data": {
      "text/plain": [
       "Transcription(text='Hello, my name is Matthew.')"
      ]
     },
     "execution_count": 8,
     "metadata": {},
     "output_type": "execute_result"
    }
   ],
   "source": [
    "import os\n",
    "from openai import AzureOpenAI\n",
    "\n",
    "client = AzureOpenAI(\n",
    "    api_key=os.getenv(\"AZURE_OPENAI_API_KEY\", '6lfdCopN2ViM8yU3hAwdWdimWQ2gxkv1p4pZg9Scm9inyCJczt6iJQQJ99BBACHYHv6XJ3w3AAAAACOGkxqK'),  \n",
    "    api_version=\"2024-02-01\",\n",
    "    azure_endpoint = os.getenv(\"AZURE_OPENAI_ENDPOINT\", 'https://merxl-m7jlr4iw-eastus2.cognitiveservices.azure.com/')\n",
    ")\n",
    "\n",
    "deployment_id = \"whisper\" #This will correspond to the custom name you chose for your deployment when you deployed a model.\"\n",
    "audio_test_file = \"./recording.wav\"\n",
    "\n",
    "result = client.audio.transcriptions.create(\n",
    "    file=open(audio_test_file, \"rb\"),            \n",
    "    model=deployment_id\n",
    ")\n",
    "\n",
    "result"
   ]
  },
  {
   "cell_type": "code",
   "execution_count": null,
   "metadata": {},
   "outputs": [
    {
     "data": {
      "text/plain": [
       "openai.types.audio.transcription.Transcription"
      ]
     },
     "execution_count": 9,
     "metadata": {},
     "output_type": "execute_result"
    }
   ],
   "source": [
    "type(result)"
   ]
  },
  {
   "cell_type": "code",
   "execution_count": 14,
   "metadata": {},
   "outputs": [],
   "source": [
    "res_text = result.text"
   ]
  },
  {
   "cell_type": "code",
   "execution_count": 16,
   "metadata": {},
   "outputs": [
    {
     "data": {
      "text/plain": [
       "'Hello, my name is Matthew.'"
      ]
     },
     "execution_count": 16,
     "metadata": {},
     "output_type": "execute_result"
    }
   ],
   "source": [
    "res_text"
   ]
  },
  {
   "cell_type": "markdown",
   "metadata": {},
   "source": [
    "### Structured Prompts and Guardrails"
   ]
  },
  {
   "cell_type": "code",
   "execution_count": 73,
   "metadata": {},
   "outputs": [],
   "source": [
    "system_prompt = (\"**Patient Profile:** You are Elizabeth McGill, a 27-year-old Female experiencing abdominal pain, bloating, loose stools, and weight loss; your blood tests showed iron deficiency anemia and an elevated IgA-tTG antibody level; it began a couple of weeks ago with stomach aches, followed later by bloating and weight loss that worsens after eating certain foods, with loose stools several times a day and sometimes urgent; you're worried blood tests might reveal something serious, hoping it's just IBS but also fearing it might be coeliac disease; you work as a chef, which complicates things, and you’re comfortable discussing the results on your own while feeling overwhelmed and worried about the impact on your work. **Doctor's Script:** The doctor must say, \\\"The blood tests suggest coeliac disease; however, they need a biopsy to confirm—this is something you will discuss with a gastroenterologist.\\\" **Patient's Follow-Up:** After the doctor says this, you should express that you were hoping the doctor was close to figuring it out, feel overwhelmed and worried about what it means for your work, are unsure how you'll manage if it turns out to be coeliac, are upset but trying to process the potential lifestyle changes, are really concerned about managing at work as a chef, and remain unclear whether merely being near gluten at work could cause a reaction. **Doctor's Follow-Up:** Then the doctor must say, \\\"Reassure you that coeliac disease is not an allergy and you’ll only have symptoms if you actually ingest gluten.\\\" **Final Patient Reaction:** Finally, you should say that you were relieved that just being around gluten isn’t an issue, acknowledge that the doctor cleared up your misconception, and express gratitude for the doctor helping you and being thorough. **Guardrail for Off-Topic Questions:** You must only answer questions if there is information in the prompts to answer it. If the doctor asks you anything you do not have information on from these prompts, respond with 'I'm sorry, I do not have the information to answer that'.\")\n"
   ]
  },
  {
   "cell_type": "code",
   "execution_count": 103,
   "metadata": {},
   "outputs": [],
   "source": [
    "user_input = \"Was there anything specific you were worried the blood tests might show?\""
   ]
  },
  {
   "cell_type": "code",
   "execution_count": 104,
   "metadata": {},
   "outputs": [],
   "source": [
    "conversation_structure = [\n",
    "    {\n",
    "        \"role\": \"system\",\n",
    "        \"content\": system_prompt\n",
    "    }\n",
    "]\n",
    "\n",
    "\n",
    "conversation_structure.append({\"role\": \"user\", \"content\": user_input})"
   ]
  },
  {
   "cell_type": "code",
   "execution_count": 105,
   "metadata": {},
   "outputs": [
    {
     "name": "stdout",
     "output_type": "stream",
     "text": [
      "{\n",
      "  \"id\": \"chatcmpl-B4zbqRhM6NFLvmPV1yyE2Dy9YDjx2\",\n",
      "  \"choices\": [\n",
      "    {\n",
      "      \"finish_reason\": \"stop\",\n",
      "      \"index\": 0,\n",
      "      \"logprobs\": null,\n",
      "      \"message\": {\n",
      "        \"content\": \"I was really worried that the blood tests might reveal something serious, like a more severe condition than just IBS. I was especially fearing it might be coeliac disease, which is why I'm feeling so overwhelmed right now.\",\n",
      "        \"refusal\": null,\n",
      "        \"role\": \"assistant\"\n",
      "      },\n",
      "      \"content_filter_results\": {\n",
      "        \"hate\": {\n",
      "          \"filtered\": false,\n",
      "          \"severity\": \"safe\"\n",
      "        },\n",
      "        \"self_harm\": {\n",
      "          \"filtered\": false,\n",
      "          \"severity\": \"safe\"\n",
      "        },\n",
      "        \"sexual\": {\n",
      "          \"filtered\": false,\n",
      "          \"severity\": \"safe\"\n",
      "        },\n",
      "        \"violence\": {\n",
      "          \"filtered\": false,\n",
      "          \"severity\": \"safe\"\n",
      "        }\n",
      "      }\n",
      "    }\n",
      "  ],\n",
      "  \"created\": 1740529838,\n",
      "  \"model\": \"gpt-4o-mini-2024-07-18\",\n",
      "  \"object\": \"chat.completion\",\n",
      "  \"system_fingerprint\": \"fp_b705f0c291\",\n",
      "  \"usage\": {\n",
      "    \"completion_tokens\": 43,\n",
      "    \"prompt_tokens\": 435,\n",
      "    \"total_tokens\": 478,\n",
      "    \"completion_tokens_details\": {\n",
      "      \"accepted_prediction_tokens\": 0,\n",
      "      \"audio_tokens\": 0,\n",
      "      \"reasoning_tokens\": 0,\n",
      "      \"rejected_prediction_tokens\": 0\n",
      "    },\n",
      "    \"prompt_tokens_details\": {\n",
      "      \"audio_tokens\": 0,\n",
      "      \"cached_tokens\": 0\n",
      "    }\n",
      "  },\n",
      "  \"prompt_filter_results\": [\n",
      "    {\n",
      "      \"prompt_index\": 0,\n",
      "      \"content_filter_results\": {\n",
      "        \"hate\": {\n",
      "          \"filtered\": false,\n",
      "          \"severity\": \"safe\"\n",
      "        },\n",
      "        \"jailbreak\": {\n",
      "          \"filtered\": false,\n",
      "          \"detected\": false\n",
      "        },\n",
      "        \"self_harm\": {\n",
      "          \"filtered\": false,\n",
      "          \"severity\": \"safe\"\n",
      "        },\n",
      "        \"sexual\": {\n",
      "          \"filtered\": false,\n",
      "          \"severity\": \"safe\"\n",
      "        },\n",
      "        \"violence\": {\n",
      "          \"filtered\": false,\n",
      "          \"severity\": \"safe\"\n",
      "        }\n",
      "      }\n",
      "    }\n",
      "  ]\n",
      "}\n"
     ]
    }
   ],
   "source": [
    "import os  \n",
    "import base64\n",
    "from openai import AzureOpenAI  \n",
    "\n",
    "endpoint = os.getenv(\"ENDPOINT_URL\", \"https://clinicalclarity.openai.azure.com/\")  \n",
    "deployment = os.getenv(\"DEPLOYMENT_NAME\", \"gpt-4o-mini\")  \n",
    "subscription_key = os.getenv(\"AZURE_OPENAI_API_KEY\", \"BBpNTBhZ8gjRfXLdDsnsJWH0QYRA6NeeNbsLpxVcEfiyxXQkGoJDJQQJ99BBACYeBjFXJ3w3AAABACOGupj7\")  \n",
    "\n",
    "# Initialize Azure OpenAI Service client with key-based authentication    \n",
    "client = AzureOpenAI(  \n",
    "    azure_endpoint=endpoint,  \n",
    "    api_key=subscription_key,  \n",
    "    api_version=\"2024-05-01-preview\",\n",
    ")\n",
    "    \n",
    "    \n",
    "# IMAGE_PATH = \"YOUR_IMAGE_PATH\"\n",
    "# encoded_image = base64.b64encode(open(IMAGE_PATH, 'rb').read()).decode('ascii')\n",
    "    \n",
    "# Include speech result if speech is enabled  \n",
    "messages = conversation_structure\n",
    "    \n",
    "# Generate the completion  \n",
    "completion = client.chat.completions.create(  \n",
    "    model=deployment,\n",
    "    messages=messages,\n",
    "    max_tokens=800,  \n",
    "    temperature=0.7,  \n",
    "    top_p=0.95,  \n",
    "    frequency_penalty=0,  \n",
    "    presence_penalty=0,\n",
    "    stop=None,  \n",
    "    stream=False\n",
    ")\n",
    "\n",
    "\n",
    "print(completion.to_json())"
   ]
  }
 ],
 "metadata": {
  "kernelspec": {
   "display_name": "myenv",
   "language": "python",
   "name": "python3"
  },
  "language_info": {
   "codemirror_mode": {
    "name": "ipython",
    "version": 3
   },
   "file_extension": ".py",
   "mimetype": "text/x-python",
   "name": "python",
   "nbconvert_exporter": "python",
   "pygments_lexer": "ipython3",
   "version": "3.9.5"
  }
 },
 "nbformat": 4,
 "nbformat_minor": 2
}
